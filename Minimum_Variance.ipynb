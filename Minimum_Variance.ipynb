{
 "cells": [
  {
   "cell_type": "markdown",
   "metadata": {},
   "source": [
    "# Import and View Data"
   ]
  },
  {
   "cell_type": "code",
   "execution_count": 1,
   "metadata": {},
   "outputs": [],
   "source": [
    "import numpy as np\n",
    "import pandas as pd\n",
    "import math"
   ]
  },
  {
   "cell_type": "code",
   "execution_count": 2,
   "metadata": {},
   "outputs": [
    {
     "data": {
      "text/html": [
       "<div>\n",
       "<style scoped>\n",
       "    .dataframe tbody tr th:only-of-type {\n",
       "        vertical-align: middle;\n",
       "    }\n",
       "\n",
       "    .dataframe tbody tr th {\n",
       "        vertical-align: top;\n",
       "    }\n",
       "\n",
       "    .dataframe thead th {\n",
       "        text-align: right;\n",
       "    }\n",
       "</style>\n",
       "<table border=\"1\" class=\"dataframe\">\n",
       "  <thead>\n",
       "    <tr style=\"text-align: right;\">\n",
       "      <th></th>\n",
       "      <th>S1</th>\n",
       "      <th>S2</th>\n",
       "      <th>S3</th>\n",
       "      <th>S4</th>\n",
       "      <th>S5</th>\n",
       "      <th>S6</th>\n",
       "      <th>S7</th>\n",
       "      <th>S8</th>\n",
       "      <th>B1</th>\n",
       "      <th>B2</th>\n",
       "      <th>...</th>\n",
       "      <th>B7</th>\n",
       "      <th>B8</th>\n",
       "      <th>C1</th>\n",
       "      <th>C2</th>\n",
       "      <th>C3</th>\n",
       "      <th>C4</th>\n",
       "      <th>C5</th>\n",
       "      <th>C6</th>\n",
       "      <th>C7</th>\n",
       "      <th>C8</th>\n",
       "    </tr>\n",
       "  </thead>\n",
       "  <tbody>\n",
       "    <tr>\n",
       "      <th>0</th>\n",
       "      <td>100.000000</td>\n",
       "      <td>100.000000</td>\n",
       "      <td>100.000000</td>\n",
       "      <td>100.000000</td>\n",
       "      <td>100.000000</td>\n",
       "      <td>100.000000</td>\n",
       "      <td>100.000000</td>\n",
       "      <td>100.000000</td>\n",
       "      <td>100.000000</td>\n",
       "      <td>100.000000</td>\n",
       "      <td>...</td>\n",
       "      <td>100.000000</td>\n",
       "      <td>100.000000</td>\n",
       "      <td>100.000000</td>\n",
       "      <td>100.000000</td>\n",
       "      <td>100.000000</td>\n",
       "      <td>100.000000</td>\n",
       "      <td>100.000000</td>\n",
       "      <td>100.000000</td>\n",
       "      <td>100.000000</td>\n",
       "      <td>100.000000</td>\n",
       "    </tr>\n",
       "    <tr>\n",
       "      <th>1</th>\n",
       "      <td>98.355850</td>\n",
       "      <td>98.307641</td>\n",
       "      <td>95.630621</td>\n",
       "      <td>98.296988</td>\n",
       "      <td>98.474008</td>\n",
       "      <td>95.663069</td>\n",
       "      <td>98.342292</td>\n",
       "      <td>98.416837</td>\n",
       "      <td>100.086605</td>\n",
       "      <td>99.685232</td>\n",
       "      <td>...</td>\n",
       "      <td>99.674428</td>\n",
       "      <td>100.131478</td>\n",
       "      <td>95.854652</td>\n",
       "      <td>95.571202</td>\n",
       "      <td>94.085760</td>\n",
       "      <td>93.956485</td>\n",
       "      <td>94.140624</td>\n",
       "      <td>94.058865</td>\n",
       "      <td>95.786959</td>\n",
       "      <td>94.331430</td>\n",
       "    </tr>\n",
       "    <tr>\n",
       "      <th>2</th>\n",
       "      <td>96.766305</td>\n",
       "      <td>97.785655</td>\n",
       "      <td>95.211317</td>\n",
       "      <td>97.876191</td>\n",
       "      <td>96.910785</td>\n",
       "      <td>95.299426</td>\n",
       "      <td>97.862363</td>\n",
       "      <td>96.850881</td>\n",
       "      <td>100.595828</td>\n",
       "      <td>99.614514</td>\n",
       "      <td>...</td>\n",
       "      <td>99.463006</td>\n",
       "      <td>100.594669</td>\n",
       "      <td>87.500105</td>\n",
       "      <td>86.517650</td>\n",
       "      <td>88.861746</td>\n",
       "      <td>89.205952</td>\n",
       "      <td>89.255488</td>\n",
       "      <td>89.203200</td>\n",
       "      <td>86.873750</td>\n",
       "      <td>89.644765</td>\n",
       "    </tr>\n",
       "    <tr>\n",
       "      <th>3</th>\n",
       "      <td>99.498201</td>\n",
       "      <td>97.762932</td>\n",
       "      <td>95.831525</td>\n",
       "      <td>97.979482</td>\n",
       "      <td>99.992847</td>\n",
       "      <td>95.890271</td>\n",
       "      <td>97.890721</td>\n",
       "      <td>99.523488</td>\n",
       "      <td>100.687198</td>\n",
       "      <td>99.425275</td>\n",
       "      <td>...</td>\n",
       "      <td>99.220046</td>\n",
       "      <td>100.639175</td>\n",
       "      <td>84.500885</td>\n",
       "      <td>83.306741</td>\n",
       "      <td>86.183137</td>\n",
       "      <td>86.617107</td>\n",
       "      <td>86.643905</td>\n",
       "      <td>86.512592</td>\n",
       "      <td>83.788306</td>\n",
       "      <td>87.068357</td>\n",
       "    </tr>\n",
       "    <tr>\n",
       "      <th>4</th>\n",
       "      <td>96.259221</td>\n",
       "      <td>92.942010</td>\n",
       "      <td>94.272932</td>\n",
       "      <td>92.958011</td>\n",
       "      <td>96.469517</td>\n",
       "      <td>94.318577</td>\n",
       "      <td>93.007052</td>\n",
       "      <td>96.278064</td>\n",
       "      <td>101.939638</td>\n",
       "      <td>100.099827</td>\n",
       "      <td>...</td>\n",
       "      <td>99.843072</td>\n",
       "      <td>101.823484</td>\n",
       "      <td>79.974708</td>\n",
       "      <td>78.434282</td>\n",
       "      <td>80.585967</td>\n",
       "      <td>81.404902</td>\n",
       "      <td>81.484117</td>\n",
       "      <td>81.131945</td>\n",
       "      <td>79.157682</td>\n",
       "      <td>81.778226</td>\n",
       "    </tr>\n",
       "  </tbody>\n",
       "</table>\n",
       "<p>5 rows × 24 columns</p>\n",
       "</div>"
      ],
      "text/plain": [
       "           S1          S2          S3          S4          S5          S6  \\\n",
       "0  100.000000  100.000000  100.000000  100.000000  100.000000  100.000000   \n",
       "1   98.355850   98.307641   95.630621   98.296988   98.474008   95.663069   \n",
       "2   96.766305   97.785655   95.211317   97.876191   96.910785   95.299426   \n",
       "3   99.498201   97.762932   95.831525   97.979482   99.992847   95.890271   \n",
       "4   96.259221   92.942010   94.272932   92.958011   96.469517   94.318577   \n",
       "\n",
       "           S7          S8          B1          B2  ...          B7  \\\n",
       "0  100.000000  100.000000  100.000000  100.000000  ...  100.000000   \n",
       "1   98.342292   98.416837  100.086605   99.685232  ...   99.674428   \n",
       "2   97.862363   96.850881  100.595828   99.614514  ...   99.463006   \n",
       "3   97.890721   99.523488  100.687198   99.425275  ...   99.220046   \n",
       "4   93.007052   96.278064  101.939638  100.099827  ...   99.843072   \n",
       "\n",
       "           B8          C1          C2          C3          C4          C5  \\\n",
       "0  100.000000  100.000000  100.000000  100.000000  100.000000  100.000000   \n",
       "1  100.131478   95.854652   95.571202   94.085760   93.956485   94.140624   \n",
       "2  100.594669   87.500105   86.517650   88.861746   89.205952   89.255488   \n",
       "3  100.639175   84.500885   83.306741   86.183137   86.617107   86.643905   \n",
       "4  101.823484   79.974708   78.434282   80.585967   81.404902   81.484117   \n",
       "\n",
       "           C6          C7          C8  \n",
       "0  100.000000  100.000000  100.000000  \n",
       "1   94.058865   95.786959   94.331430  \n",
       "2   89.203200   86.873750   89.644765  \n",
       "3   86.512592   83.788306   87.068357  \n",
       "4   81.131945   79.157682   81.778226  \n",
       "\n",
       "[5 rows x 24 columns]"
      ]
     },
     "execution_count": 2,
     "metadata": {},
     "output_type": "execute_result"
    }
   ],
   "source": [
    "data = pd.read_csv(\"../data/Case3HistoricalPrices.csv\")\n",
    "data = data.drop(columns=['Unnamed: 0'])\n",
    "data.head()"
   ]
  },
  {
   "cell_type": "code",
   "execution_count": 3,
   "metadata": {},
   "outputs": [],
   "source": [
    "train_split = 252*5 #5 Years\n",
    "train = data.iloc[:train_split].reset_index(drop=True)\n",
    "test = data.iloc[train_split:].reset_index(drop=True)"
   ]
  },
  {
   "cell_type": "markdown",
   "metadata": {},
   "source": [
    "# Method 1:"
   ]
  },
  {
   "cell_type": "markdown",
   "metadata": {},
   "source": [
    "Solving the optimization problem of minimizing $w^T Vw$ such that $1^T w = 1$ produces closed form solution\n",
    "$$w = \\frac{1}{1^T V^{-1} r}V^{-1} r$$\n",
    "Which is implemented below. Here, $w$ is the weights and $V$ is the covariance matrix.\n",
    "\n",
    "Note that while this method scores a negative total points, if you change the testing code to test on \"train.iterrows()\", you get an overall positive score. It's most likely overfitting on the training data and thus doesn't perform as well."
   ]
  },
  {
   "cell_type": "code",
   "execution_count": 4,
   "metadata": {},
   "outputs": [
    {
     "name": "stdout",
     "output_type": "stream",
     "text": [
      "(24, 24)\n"
     ]
    }
   ],
   "source": [
    "ones = np.ones(24)\n",
    "r = (train.iloc[-1] - train.iloc[0]).to_numpy()\n",
    "V = np.cov(train.to_numpy().T)\n",
    "V_inv = np.linalg.inv(V)\n",
    "print(V.shape)\n",
    "\n",
    "train_weights = (1/(ones.T@V_inv@r))*V_inv@r\n",
    "\n",
    "def allocate(asset_prices):\n",
    "    return train_weights"
   ]
  },
  {
   "cell_type": "markdown",
   "metadata": {},
   "source": [
    "### Results"
   ]
  },
  {
   "cell_type": "code",
   "execution_count": 5,
   "metadata": {},
   "outputs": [],
   "source": [
    "# Annualized daily sharpe ratio\n",
    "weights = np.zeros(len(data.columns))\n",
    "prev_row = np.zeros(len(data.columns))\n",
    "returns = []\n",
    "\n",
    "for index, row in test.iterrows():\n",
    "    if index == 0: # No returns on first day\n",
    "        prev_row = row.to_numpy()\n",
    "        new_weights = allocate(prev_row)\n",
    "    else: # Add daily return\n",
    "        asset_prices = row.to_numpy()\n",
    "        yesterday = prev_row * weights\n",
    "        today = asset_prices * new_weights\n",
    "        transaction_fee = 30*sum(abs(new_weights - weights))\n",
    "        daily_return = sum(today) - sum(yesterday) - transaction_fee\n",
    "        returns.append(daily_return)\n",
    "        # Update prev_row and weights\n",
    "        prev_row = asset_prices\n",
    "        weights = new_weights\n",
    "        new_weights = allocate(asset_prices)"
   ]
  },
  {
   "cell_type": "code",
   "execution_count": 6,
   "metadata": {},
   "outputs": [
    {
     "name": "stdout",
     "output_type": "stream",
     "text": [
      "Sharpe ratio for year  1 :  -0.9250038881248382\n",
      "Sharpe ratio for year  2 :  -0.21461813972705493\n",
      "Sharpe ratio for year  3 :  0.2766426256327067\n",
      "Sharpe ratio for year  4 :  -0.4598482511489446\n",
      "Sharpe ratio for year  5 :  -0.6097257647753382\n",
      "Total points:  -1.9325534181434694\n"
     ]
    }
   ],
   "source": [
    "total = 0\n",
    "for i in range(1,6):\n",
    "    year_ret = np.array(returns[(i-1)*252: i*252])\n",
    "    if year_ret.std():\n",
    "        ratio = math.sqrt(252)*year_ret.mean()/year_ret.std()\n",
    "    else: ratio = 0\n",
    "    total += ratio\n",
    "    print(\"Sharpe ratio for year \", i, \": \", ratio)\n",
    "print(\"Total points: \", total)"
   ]
  },
  {
   "cell_type": "markdown",
   "metadata": {},
   "source": [
    "# Method 2"
   ]
  },
  {
   "cell_type": "markdown",
   "metadata": {},
   "source": [
    "Rather than deciding on one set of weights to use for the entire testing set, we can recalculate the weights by updating returns with every new set of asset prices. The equations used are the same as above."
   ]
  },
  {
   "cell_type": "code",
   "execution_count": 7,
   "metadata": {},
   "outputs": [],
   "source": [
    "ones = np.ones(24)\n",
    "V = np.cov(train.to_numpy().T)\n",
    "V_inv = np.linalg.inv(V)\n",
    "\n",
    "def allocate(asset_prices):\n",
    "    r = (asset_prices - train.iloc[0]).to_numpy()\n",
    "    train_weights = (1/(ones.T@V_inv@r))*V_inv@r\n",
    "    return train_weights"
   ]
  },
  {
   "cell_type": "markdown",
   "metadata": {},
   "source": [
    "### Results"
   ]
  },
  {
   "cell_type": "code",
   "execution_count": 8,
   "metadata": {},
   "outputs": [],
   "source": [
    "# Annualized daily sharpe ratio\n",
    "weights = np.zeros(len(data.columns))\n",
    "prev_row = np.zeros(len(data.columns))\n",
    "returns = []\n",
    "\n",
    "for index, row in test.iterrows():\n",
    "    if index == 0: # No returns on first day\n",
    "        prev_row = row.to_numpy()\n",
    "        new_weights = allocate(prev_row)\n",
    "    else: # Add daily return\n",
    "        asset_prices = row.to_numpy()\n",
    "        yesterday = prev_row * weights\n",
    "        today = asset_prices * new_weights\n",
    "        transaction_fee = 30*sum(abs(new_weights - weights))\n",
    "        daily_return = sum(today) - sum(yesterday) - transaction_fee\n",
    "        returns.append(daily_return)\n",
    "        # Update prev_row and weights\n",
    "        prev_row = asset_prices\n",
    "        weights = new_weights\n",
    "        new_weights = allocate(asset_prices)"
   ]
  },
  {
   "cell_type": "code",
   "execution_count": 9,
   "metadata": {
    "scrolled": true
   },
   "outputs": [
    {
     "name": "stdout",
     "output_type": "stream",
     "text": [
      "Sharpe ratio for year  1 :  -3.0511031304893197\n",
      "Sharpe ratio for year  2 :  -2.4886495631390946\n",
      "Sharpe ratio for year  3 :  -3.0341056099356836\n",
      "Sharpe ratio for year  4 :  -1.9231045900767576\n",
      "Sharpe ratio for year  5 :  -3.8116261891080656\n",
      "Total points:  -14.30858908274892\n"
     ]
    }
   ],
   "source": [
    "total = 0\n",
    "for i in range(1,6):\n",
    "    year_ret = np.array(returns[(i-1)*252: i*252])\n",
    "    if year_ret.std():\n",
    "        ratio = math.sqrt(252)*year_ret.mean()/year_ret.std()\n",
    "    else: ratio = 0\n",
    "    total += ratio\n",
    "    print(\"Sharpe ratio for year \", i, \": \", ratio)\n",
    "print(\"Total points: \", total)"
   ]
  },
  {
   "cell_type": "markdown",
   "metadata": {},
   "source": [
    "# Method 3"
   ]
  },
  {
   "cell_type": "markdown",
   "metadata": {},
   "source": [
    "This time, we recalculate the weights *and covariance matrix* with every new set of asset prices. The equations used are the same as above."
   ]
  },
  {
   "cell_type": "code",
   "execution_count": 10,
   "metadata": {},
   "outputs": [],
   "source": [
    "ones = np.ones(24)\n",
    "prices_so_far = train.to_numpy()\n",
    "\n",
    "def allocate(asset_prices):\n",
    "    global prices_so_far\n",
    "    prices_so_far = np.vstack((prices_so_far, asset_prices))\n",
    "    V = np.cov(prices_so_far.T)\n",
    "    V_inv = np.linalg.inv(V)\n",
    "    r = (asset_prices - train.iloc[0]).to_numpy()\n",
    "    train_weights = (1/(ones.T@V_inv@r))*V_inv@r\n",
    "    return train_weights"
   ]
  },
  {
   "cell_type": "markdown",
   "metadata": {},
   "source": [
    "### Results"
   ]
  },
  {
   "cell_type": "code",
   "execution_count": 11,
   "metadata": {},
   "outputs": [],
   "source": [
    "# Annualized daily sharpe ratio\n",
    "weights = np.zeros(len(data.columns))\n",
    "prev_row = np.zeros(len(data.columns))\n",
    "returns = []\n",
    "\n",
    "for index, row in test.iterrows():\n",
    "    if index == 0: # No returns on first day\n",
    "        prev_row = row.to_numpy()\n",
    "        new_weights = allocate(prev_row)\n",
    "    else: # Add daily return\n",
    "        asset_prices = row.to_numpy()\n",
    "        yesterday = prev_row * weights\n",
    "        today = asset_prices * new_weights\n",
    "        transaction_fee = 30*sum(abs(new_weights - weights))\n",
    "        daily_return = sum(today) - sum(yesterday) - transaction_fee\n",
    "        returns.append(daily_return)\n",
    "        # Update prev_row and weights\n",
    "        prev_row = asset_prices\n",
    "        weights = new_weights\n",
    "        new_weights = allocate(asset_prices)"
   ]
  },
  {
   "cell_type": "code",
   "execution_count": 12,
   "metadata": {
    "scrolled": true
   },
   "outputs": [
    {
     "name": "stdout",
     "output_type": "stream",
     "text": [
      "Sharpe ratio for year  1 :  -3.40105680603709\n",
      "Sharpe ratio for year  2 :  -3.235793039874136\n",
      "Sharpe ratio for year  3 :  -6.723090787544591\n",
      "Sharpe ratio for year  4 :  -2.9920922622292268\n",
      "Sharpe ratio for year  5 :  -3.247593931315782\n",
      "Total points:  -19.599626827000826\n"
     ]
    }
   ],
   "source": [
    "total = 0\n",
    "for i in range(1,6):\n",
    "    year_ret = np.array(returns[(i-1)*252: i*252])\n",
    "    if year_ret.std():\n",
    "        ratio = math.sqrt(252)*year_ret.mean()/year_ret.std()\n",
    "    else: ratio = 0\n",
    "    total += ratio\n",
    "    print(\"Sharpe ratio for year \", i, \": \", ratio)\n",
    "print(\"Total points: \", total)"
   ]
  }
 ],
 "metadata": {
  "kernelspec": {
   "display_name": "Python 3",
   "language": "python",
   "name": "python3"
  },
  "language_info": {
   "codemirror_mode": {
    "name": "ipython",
    "version": 3
   },
   "file_extension": ".py",
   "mimetype": "text/x-python",
   "name": "python",
   "nbconvert_exporter": "python",
   "pygments_lexer": "ipython3",
   "version": "3.6.13"
  }
 },
 "nbformat": 4,
 "nbformat_minor": 2
}
